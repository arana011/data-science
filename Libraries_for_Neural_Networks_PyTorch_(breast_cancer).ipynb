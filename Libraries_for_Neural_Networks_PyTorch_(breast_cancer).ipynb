{
  "nbformat": 4,
  "nbformat_minor": 0,
  "metadata": {
    "colab": {
      "name": "Libraries for Neural Networks - PyTorch (breast cancer).ipynb",
      "provenance": [],
      "collapsed_sections": [
        "QGDLesyDQpIb"
      ],
      "include_colab_link": true
    },
    "kernelspec": {
      "name": "python3",
      "display_name": "Python 3"
    },
    "accelerator": "GPU"
  },
  "cells": [
    {
      "cell_type": "markdown",
      "metadata": {
        "id": "view-in-github",
        "colab_type": "text"
      },
      "source": [
        "<a href=\"https://colab.research.google.com/github/initiative1972/data-science/blob/main/Libraries_for_Neural_Networks_PyTorch_(breast_cancer).ipynb\" target=\"_parent\"><img src=\"https://colab.research.google.com/assets/colab-badge.svg\" alt=\"Open In Colab\"/></a>"
      ]
    },
    {
      "cell_type": "markdown",
      "metadata": {
        "id": "rD_RSER5Lkb5"
      },
      "source": [
        "# Libraries for Neural Networks - PyTorch\n",
        "\n"
      ]
    },
    {
      "cell_type": "code",
      "source": [
        "!pip install torch==1.5.0+cu101 torchvision==0.6.0+cu101 -f https://download.pytorch.org/whl/torch_stable.html"
      ],
      "metadata": {
        "id": "BefKIa-GevKD"
      },
      "execution_count": null,
      "outputs": []
    },
    {
      "cell_type": "markdown",
      "metadata": {
        "id": "5tP2BcEILoLB"
      },
      "source": [
        "## Loading the dataset"
      ]
    },
    {
      "cell_type": "code",
      "metadata": {
        "id": "cMkBJMTgde8Q",
        "colab": {
          "base_uri": "https://localhost:8080/",
          "height": 34
        },
        "outputId": "bb4ca609-10fd-4b0a-8530-4bdbfc4ae481"
      },
      "source": [
        "import torch\n",
        "torch.__version__"
      ],
      "execution_count": null,
      "outputs": [
        {
          "output_type": "execute_result",
          "data": {
            "text/plain": [
              "'1.5.0+cu101'"
            ]
          },
          "metadata": {
            "tags": []
          },
          "execution_count": 1
        }
      ]
    },
    {
      "cell_type": "code",
      "metadata": {
        "id": "AoOTnVFidwII"
      },
      "source": [
        "from sklearn.model_selection import train_test_split\n",
        "from sklearn import datasets\n",
        "import numpy as np\n",
        "from sklearn.metrics import accuracy_score, confusion_matrix\n",
        "import torch.nn as nn"
      ],
      "execution_count": null,
      "outputs": []
    },
    {
      "cell_type": "code",
      "metadata": {
        "id": "7iDc-CB-eGsY"
      },
      "source": [
        "breast = datasets.load_breast_cancer()"
      ],
      "execution_count": null,
      "outputs": []
    },
    {
      "cell_type": "code",
      "metadata": {
        "id": "_DIAZpMdeOL-",
        "colab": {
          "base_uri": "https://localhost:8080/",
          "height": 235
        },
        "outputId": "35c9dd72-b6fa-4c88-8d6d-1b7039384b43"
      },
      "source": [
        "breast.data"
      ],
      "execution_count": null,
      "outputs": [
        {
          "output_type": "execute_result",
          "data": {
            "text/plain": [
              "array([[1.799e+01, 1.038e+01, 1.228e+02, ..., 2.654e-01, 4.601e-01,\n",
              "        1.189e-01],\n",
              "       [2.057e+01, 1.777e+01, 1.329e+02, ..., 1.860e-01, 2.750e-01,\n",
              "        8.902e-02],\n",
              "       [1.969e+01, 2.125e+01, 1.300e+02, ..., 2.430e-01, 3.613e-01,\n",
              "        8.758e-02],\n",
              "       ...,\n",
              "       [1.660e+01, 2.808e+01, 1.083e+02, ..., 1.418e-01, 2.218e-01,\n",
              "        7.820e-02],\n",
              "       [2.060e+01, 2.933e+01, 1.401e+02, ..., 2.650e-01, 4.087e-01,\n",
              "        1.240e-01],\n",
              "       [7.760e+00, 2.454e+01, 4.792e+01, ..., 0.000e+00, 2.871e-01,\n",
              "        7.039e-02]])"
            ]
          },
          "metadata": {
            "tags": []
          },
          "execution_count": 4
        }
      ]
    },
    {
      "cell_type": "code",
      "metadata": {
        "id": "Paiw-uSgeUsF",
        "colab": {
          "base_uri": "https://localhost:8080/",
          "height": 185
        },
        "outputId": "f3da0cea-e3d7-41a0-bb2a-a28071238c6f"
      },
      "source": [
        "breast.feature_names"
      ],
      "execution_count": null,
      "outputs": [
        {
          "output_type": "execute_result",
          "data": {
            "text/plain": [
              "array(['mean radius', 'mean texture', 'mean perimeter', 'mean area',\n",
              "       'mean smoothness', 'mean compactness', 'mean concavity',\n",
              "       'mean concave points', 'mean symmetry', 'mean fractal dimension',\n",
              "       'radius error', 'texture error', 'perimeter error', 'area error',\n",
              "       'smoothness error', 'compactness error', 'concavity error',\n",
              "       'concave points error', 'symmetry error',\n",
              "       'fractal dimension error', 'worst radius', 'worst texture',\n",
              "       'worst perimeter', 'worst area', 'worst smoothness',\n",
              "       'worst compactness', 'worst concavity', 'worst concave points',\n",
              "       'worst symmetry', 'worst fractal dimension'], dtype='<U23')"
            ]
          },
          "metadata": {
            "tags": []
          },
          "execution_count": 5
        }
      ]
    },
    {
      "cell_type": "code",
      "metadata": {
        "id": "XU7L1plAelpi",
        "colab": {
          "base_uri": "https://localhost:8080/",
          "height": 454
        },
        "outputId": "fa5a0564-3772-4941-c347-efdeacb1d419"
      },
      "source": [
        "breast.target"
      ],
      "execution_count": null,
      "outputs": [
        {
          "output_type": "execute_result",
          "data": {
            "text/plain": [
              "array([0, 0, 0, 0, 0, 0, 0, 0, 0, 0, 0, 0, 0, 0, 0, 0, 0, 0, 0, 1, 1, 1,\n",
              "       0, 0, 0, 0, 0, 0, 0, 0, 0, 0, 0, 0, 0, 0, 0, 1, 0, 0, 0, 0, 0, 0,\n",
              "       0, 0, 1, 0, 1, 1, 1, 1, 1, 0, 0, 1, 0, 0, 1, 1, 1, 1, 0, 1, 0, 0,\n",
              "       1, 1, 1, 1, 0, 1, 0, 0, 1, 0, 1, 0, 0, 1, 1, 1, 0, 0, 1, 0, 0, 0,\n",
              "       1, 1, 1, 0, 1, 1, 0, 0, 1, 1, 1, 0, 0, 1, 1, 1, 1, 0, 1, 1, 0, 1,\n",
              "       1, 1, 1, 1, 1, 1, 1, 0, 0, 0, 1, 0, 0, 1, 1, 1, 0, 0, 1, 0, 1, 0,\n",
              "       0, 1, 0, 0, 1, 1, 0, 1, 1, 0, 1, 1, 1, 1, 0, 1, 1, 1, 1, 1, 1, 1,\n",
              "       1, 1, 0, 1, 1, 1, 1, 0, 0, 1, 0, 1, 1, 0, 0, 1, 1, 0, 0, 1, 1, 1,\n",
              "       1, 0, 1, 1, 0, 0, 0, 1, 0, 1, 0, 1, 1, 1, 0, 1, 1, 0, 0, 1, 0, 0,\n",
              "       0, 0, 1, 0, 0, 0, 1, 0, 1, 0, 1, 1, 0, 1, 0, 0, 0, 0, 1, 1, 0, 0,\n",
              "       1, 1, 1, 0, 1, 1, 1, 1, 1, 0, 0, 1, 1, 0, 1, 1, 0, 0, 1, 0, 1, 1,\n",
              "       1, 1, 0, 1, 1, 1, 1, 1, 0, 1, 0, 0, 0, 0, 0, 0, 0, 0, 0, 0, 0, 0,\n",
              "       0, 0, 1, 1, 1, 1, 1, 1, 0, 1, 0, 1, 1, 0, 1, 1, 0, 1, 0, 0, 1, 1,\n",
              "       1, 1, 1, 1, 1, 1, 1, 1, 1, 1, 1, 0, 1, 1, 0, 1, 0, 1, 1, 1, 1, 1,\n",
              "       1, 1, 1, 1, 1, 1, 1, 1, 1, 0, 1, 1, 1, 0, 1, 0, 1, 1, 1, 1, 0, 0,\n",
              "       0, 1, 1, 1, 1, 0, 1, 0, 1, 0, 1, 1, 1, 0, 1, 1, 1, 1, 1, 1, 1, 0,\n",
              "       0, 0, 1, 1, 1, 1, 1, 1, 1, 1, 1, 1, 1, 0, 0, 1, 0, 0, 0, 1, 0, 0,\n",
              "       1, 1, 1, 1, 1, 0, 1, 1, 1, 1, 1, 0, 1, 1, 1, 0, 1, 1, 0, 0, 1, 1,\n",
              "       1, 1, 1, 1, 0, 1, 1, 1, 1, 1, 1, 1, 0, 1, 1, 1, 1, 1, 0, 1, 1, 0,\n",
              "       1, 1, 1, 1, 1, 1, 1, 1, 1, 1, 1, 1, 0, 1, 0, 0, 1, 0, 1, 1, 1, 1,\n",
              "       1, 0, 1, 1, 0, 1, 0, 1, 1, 0, 1, 0, 1, 1, 1, 1, 1, 1, 1, 1, 0, 0,\n",
              "       1, 1, 1, 1, 1, 1, 0, 1, 1, 1, 1, 1, 1, 1, 1, 1, 1, 0, 1, 1, 1, 1,\n",
              "       1, 1, 1, 0, 1, 0, 1, 1, 0, 1, 1, 1, 1, 1, 0, 0, 1, 0, 1, 0, 1, 1,\n",
              "       1, 1, 1, 0, 1, 1, 0, 1, 0, 1, 0, 0, 1, 1, 1, 0, 1, 1, 1, 1, 1, 1,\n",
              "       1, 1, 1, 1, 1, 0, 1, 0, 0, 1, 1, 1, 1, 1, 1, 1, 1, 1, 1, 1, 1, 1,\n",
              "       1, 1, 1, 1, 1, 1, 1, 1, 1, 1, 1, 1, 0, 0, 0, 0, 0, 0, 1])"
            ]
          },
          "metadata": {
            "tags": []
          },
          "execution_count": 7
        }
      ]
    },
    {
      "cell_type": "code",
      "metadata": {
        "id": "CSirq1ogexpf",
        "colab": {
          "base_uri": "https://localhost:8080/",
          "height": 34
        },
        "outputId": "4bfa240a-a03e-4692-9d05-cb0a637ea9c0"
      },
      "source": [
        "breast.target_names"
      ],
      "execution_count": null,
      "outputs": [
        {
          "output_type": "execute_result",
          "data": {
            "text/plain": [
              "array(['malignant', 'benign'], dtype='<U9')"
            ]
          },
          "metadata": {
            "tags": []
          },
          "execution_count": 8
        }
      ]
    },
    {
      "cell_type": "code",
      "metadata": {
        "id": "Y2EfWdzMe1ml",
        "colab": {
          "base_uri": "https://localhost:8080/",
          "height": 34
        },
        "outputId": "d06a8e4b-9da7-48ed-b740-f05737c11c50"
      },
      "source": [
        "inputs = breast.data\n",
        "inputs.shape"
      ],
      "execution_count": null,
      "outputs": [
        {
          "output_type": "execute_result",
          "data": {
            "text/plain": [
              "(569, 30)"
            ]
          },
          "metadata": {
            "tags": []
          },
          "execution_count": 9
        }
      ]
    },
    {
      "cell_type": "code",
      "metadata": {
        "id": "EQFcpegTfAVd",
        "colab": {
          "base_uri": "https://localhost:8080/",
          "height": 34
        },
        "outputId": "1ecc96c9-3d3f-49ec-c5dd-83956a291f14"
      },
      "source": [
        "outputs = breast.target\n",
        "outputs.shape"
      ],
      "execution_count": null,
      "outputs": [
        {
          "output_type": "execute_result",
          "data": {
            "text/plain": [
              "(569,)"
            ]
          },
          "metadata": {
            "tags": []
          },
          "execution_count": 10
        }
      ]
    },
    {
      "cell_type": "code",
      "metadata": {
        "id": "zXAfgiLCfFLM"
      },
      "source": [
        "X_train, X_test, y_train, y_test = train_test_split(inputs, outputs, test_size = 0.25)"
      ],
      "execution_count": null,
      "outputs": []
    },
    {
      "cell_type": "code",
      "metadata": {
        "id": "D_QBGhf8fa5W",
        "colab": {
          "base_uri": "https://localhost:8080/",
          "height": 34
        },
        "outputId": "b6f411a1-8f5a-4e77-c61d-c979e63f6e46"
      },
      "source": [
        "X_train.shape"
      ],
      "execution_count": null,
      "outputs": [
        {
          "output_type": "execute_result",
          "data": {
            "text/plain": [
              "(426, 30)"
            ]
          },
          "metadata": {
            "tags": []
          },
          "execution_count": 25
        }
      ]
    },
    {
      "cell_type": "code",
      "metadata": {
        "id": "28tDG-Dwfg3C",
        "colab": {
          "base_uri": "https://localhost:8080/",
          "height": 34
        },
        "outputId": "80e8217c-6eba-49cf-ffd0-4f9d7326a5a0"
      },
      "source": [
        "X_test.shape"
      ],
      "execution_count": null,
      "outputs": [
        {
          "output_type": "execute_result",
          "data": {
            "text/plain": [
              "(143, 30)"
            ]
          },
          "metadata": {
            "tags": []
          },
          "execution_count": 26
        }
      ]
    },
    {
      "cell_type": "markdown",
      "metadata": {
        "id": "72uvlxJrOuWd"
      },
      "source": [
        "## Data transformation\n"
      ]
    },
    {
      "cell_type": "code",
      "metadata": {
        "id": "4CDhI9lYfoSp",
        "colab": {
          "base_uri": "https://localhost:8080/",
          "height": 34
        },
        "outputId": "10120b0b-4c2b-49de-c89d-65021b5a4712"
      },
      "source": [
        "type(X_train)"
      ],
      "execution_count": null,
      "outputs": [
        {
          "output_type": "execute_result",
          "data": {
            "text/plain": [
              "numpy.ndarray"
            ]
          },
          "metadata": {
            "tags": []
          },
          "execution_count": 27
        }
      ]
    },
    {
      "cell_type": "code",
      "metadata": {
        "id": "j50JzYbvfxOB"
      },
      "source": [
        "X_train = torch.tensor(X_train, dtype=torch.float)\n",
        "y_train = torch.tensor(y_train, dtype=torch.float)"
      ],
      "execution_count": null,
      "outputs": []
    },
    {
      "cell_type": "code",
      "metadata": {
        "id": "tZpLPL9ZhGVv",
        "colab": {
          "base_uri": "https://localhost:8080/",
          "height": 34
        },
        "outputId": "448474b0-f994-4ffe-e95d-eff316ae0afd"
      },
      "source": [
        "type(X_train)"
      ],
      "execution_count": null,
      "outputs": [
        {
          "output_type": "execute_result",
          "data": {
            "text/plain": [
              "torch.Tensor"
            ]
          },
          "metadata": {
            "tags": []
          },
          "execution_count": 29
        }
      ]
    },
    {
      "cell_type": "code",
      "metadata": {
        "id": "Y6Yio0lMhJHC"
      },
      "source": [
        "dataset = torch.utils.data.TensorDataset(X_train, y_train)"
      ],
      "execution_count": null,
      "outputs": []
    },
    {
      "cell_type": "code",
      "metadata": {
        "id": "XbHuCVOLhS5u",
        "colab": {
          "base_uri": "https://localhost:8080/",
          "height": 34
        },
        "outputId": "7d6e411f-b1e6-42b9-9305-49b1a36b3595"
      },
      "source": [
        "type(dataset)"
      ],
      "execution_count": null,
      "outputs": [
        {
          "output_type": "execute_result",
          "data": {
            "text/plain": [
              "torch.utils.data.dataset.TensorDataset"
            ]
          },
          "metadata": {
            "tags": []
          },
          "execution_count": 31
        }
      ]
    },
    {
      "cell_type": "code",
      "metadata": {
        "id": "YEN5jCO-hZyT"
      },
      "source": [
        "train_loader = torch.utils.data.DataLoader(dataset, batch_size=10)"
      ],
      "execution_count": null,
      "outputs": []
    },
    {
      "cell_type": "markdown",
      "metadata": {
        "id": "QGDLesyDQpIb"
      },
      "source": [
        "## Neural network structure"
      ]
    },
    {
      "cell_type": "code",
      "metadata": {
        "id": "A4tSYG40ic00",
        "colab": {
          "base_uri": "https://localhost:8080/",
          "height": 34
        },
        "outputId": "58515c4d-f1f7-4093-83c2-0a485130a635"
      },
      "source": [
        "(30 + 1) / 2"
      ],
      "execution_count": null,
      "outputs": [
        {
          "output_type": "execute_result",
          "data": {
            "text/plain": [
              "15.5"
            ]
          },
          "metadata": {
            "tags": []
          },
          "execution_count": 32
        }
      ]
    },
    {
      "cell_type": "code",
      "metadata": {
        "id": "G8a5pCYviAHQ"
      },
      "source": [
        "# 30 -> 16 -> 16 -> 1\n",
        "network = nn.Sequential(nn.Linear(in_features=30, out_features=16),\n",
        "                        nn.Sigmoid(),\n",
        "                        nn.Linear(16, 16),\n",
        "                        nn.Sigmoid(),\n",
        "                        nn.Linear(16, 1),\n",
        "                        nn.Sigmoid())"
      ],
      "execution_count": null,
      "outputs": []
    },
    {
      "cell_type": "code",
      "metadata": {
        "id": "Z3KO31Cbjrxb",
        "colab": {
          "base_uri": "https://localhost:8080/",
          "height": 151
        },
        "outputId": "fd4cb7ea-742f-4229-eee8-2ab1f1732f4c"
      },
      "source": [
        "network.parameters"
      ],
      "execution_count": null,
      "outputs": [
        {
          "output_type": "execute_result",
          "data": {
            "text/plain": [
              "<bound method Module.parameters of Sequential(\n",
              "  (0): Linear(in_features=30, out_features=16, bias=True)\n",
              "  (1): Sigmoid()\n",
              "  (2): Linear(in_features=16, out_features=16, bias=True)\n",
              "  (3): Sigmoid()\n",
              "  (4): Linear(in_features=16, out_features=1, bias=True)\n",
              "  (5): Sigmoid()\n",
              ")>"
            ]
          },
          "metadata": {
            "tags": []
          },
          "execution_count": 34
        }
      ]
    },
    {
      "cell_type": "code",
      "metadata": {
        "id": "Zi67gpD2jw2d"
      },
      "source": [
        "loss_function = nn.BCELoss()"
      ],
      "execution_count": null,
      "outputs": []
    },
    {
      "cell_type": "code",
      "metadata": {
        "id": "c5DwvzzpkCIS"
      },
      "source": [
        "optimizer = torch.optim.Adam(network.parameters(), lr = 0.001)"
      ],
      "execution_count": null,
      "outputs": []
    },
    {
      "cell_type": "code",
      "metadata": {
        "id": "Yn2TbtzfkP19",
        "colab": {
          "base_uri": "https://localhost:8080/",
          "height": 1000
        },
        "outputId": "c2f403dd-2f89-4bd8-a0ea-72214ed89bb7"
      },
      "source": [
        "epochs = 100\n",
        "for epoch in range(epochs):\n",
        "  running_loss = 0.\n",
        "\n",
        "  for data in train_loader:\n",
        "    inputs, outputs = data\n",
        "    #print(inputs)\n",
        "    #print('-----')\n",
        "    #print(outputs)\n",
        "    optimizer.zero_grad()\n",
        "\n",
        "    predictions = network.forward(inputs) \n",
        "    loss = loss_function(predictions, outputs)\n",
        "    loss.backward()\n",
        "    optimizer.step()\n",
        "\n",
        "    running_loss += loss.item()\n",
        "  print('Epoch: ' + str(epoch + 1) + ' loss: ' + str(running_loss / len(train_loader)))"
      ],
      "execution_count": null,
      "outputs": [
        {
          "output_type": "stream",
          "text": [
            "/usr/local/lib/python3.6/dist-packages/torch/nn/modules/loss.py:516: UserWarning: Using a target size (torch.Size([10])) that is different to the input size (torch.Size([10, 1])) is deprecated. Please ensure they have the same size.\n",
            "  return F.binary_cross_entropy(input, target, weight=self.weight, reduction=self.reduction)\n",
            "/usr/local/lib/python3.6/dist-packages/torch/nn/modules/loss.py:516: UserWarning: Using a target size (torch.Size([6])) that is different to the input size (torch.Size([6, 1])) is deprecated. Please ensure they have the same size.\n",
            "  return F.binary_cross_entropy(input, target, weight=self.weight, reduction=self.reduction)\n"
          ],
          "name": "stderr"
        },
        {
          "output_type": "stream",
          "text": [
            "Epoch: 1 loss: 0.6989284573599349\n",
            "Epoch: 2 loss: 0.6682969539664513\n",
            "Epoch: 3 loss: 0.6501532959383588\n",
            "Epoch: 4 loss: 0.6364767010821852\n",
            "Epoch: 5 loss: 0.6225594975227533\n",
            "Epoch: 6 loss: 0.6051911829515945\n",
            "Epoch: 7 loss: 0.5857381626617076\n",
            "Epoch: 8 loss: 0.562668630550074\n",
            "Epoch: 9 loss: 0.5383974500866824\n",
            "Epoch: 10 loss: 0.5090919344924217\n",
            "Epoch: 11 loss: 0.4834531947623852\n",
            "Epoch: 12 loss: 0.4538949346819589\n",
            "Epoch: 13 loss: 0.4228789487550425\n",
            "Epoch: 14 loss: 0.40242734066275665\n",
            "Epoch: 15 loss: 0.3766496534957442\n",
            "Epoch: 16 loss: 0.35530585397121517\n",
            "Epoch: 17 loss: 0.33506373714569004\n",
            "Epoch: 18 loss: 0.3294234736714252\n",
            "Epoch: 19 loss: 0.3160991301370222\n",
            "Epoch: 20 loss: 0.2975823886172716\n",
            "Epoch: 21 loss: 0.30123978264110035\n",
            "Epoch: 22 loss: 0.28023597008960194\n",
            "Epoch: 23 loss: 0.2733264047392579\n",
            "Epoch: 24 loss: 0.2720096440509308\n",
            "Epoch: 25 loss: 0.27414476854163544\n",
            "Epoch: 26 loss: 0.2689920351948849\n",
            "Epoch: 27 loss: 0.26759347025045127\n",
            "Epoch: 28 loss: 0.2643312501699425\n",
            "Epoch: 29 loss: 0.2534499303546063\n",
            "Epoch: 30 loss: 0.2596076359582502\n",
            "Epoch: 31 loss: 0.24632187014402346\n",
            "Epoch: 32 loss: 0.2348751597279726\n",
            "Epoch: 33 loss: 0.2406258671436199\n",
            "Epoch: 34 loss: 0.25244624878084937\n",
            "Epoch: 35 loss: 0.257210488669401\n",
            "Epoch: 36 loss: 0.24020901305037876\n",
            "Epoch: 37 loss: 0.23874108164116395\n",
            "Epoch: 38 loss: 0.23115565801082655\n",
            "Epoch: 39 loss: 0.24343606838306717\n",
            "Epoch: 40 loss: 0.2431639776846697\n",
            "Epoch: 41 loss: 0.22446071581785068\n",
            "Epoch: 42 loss: 0.2389165273066177\n",
            "Epoch: 43 loss: 0.24180382880014042\n",
            "Epoch: 44 loss: 0.223989678243565\n",
            "Epoch: 45 loss: 0.2428230258614518\n",
            "Epoch: 46 loss: 0.2417310181745263\n",
            "Epoch: 47 loss: 0.23106597961727962\n",
            "Epoch: 48 loss: 0.22750449232583822\n",
            "Epoch: 49 loss: 0.22543716344029405\n",
            "Epoch: 50 loss: 0.24933264820381654\n",
            "Epoch: 51 loss: 0.23531760578585226\n",
            "Epoch: 52 loss: 0.23248972769740017\n",
            "Epoch: 53 loss: 0.22990851398817327\n",
            "Epoch: 54 loss: 0.23095158236317856\n",
            "Epoch: 55 loss: 0.21923337720854338\n",
            "Epoch: 56 loss: 0.23328396946538327\n",
            "Epoch: 57 loss: 0.20939459105910257\n",
            "Epoch: 58 loss: 0.22966698548474976\n",
            "Epoch: 59 loss: 0.2166360740571521\n",
            "Epoch: 60 loss: 0.21900695848257043\n",
            "Epoch: 61 loss: 0.2243398454820001\n",
            "Epoch: 62 loss: 0.2135012433106123\n",
            "Epoch: 63 loss: 0.21724340891422228\n",
            "Epoch: 64 loss: 0.22372562212999478\n",
            "Epoch: 65 loss: 0.21730792886295983\n",
            "Epoch: 66 loss: 0.20632265239607456\n",
            "Epoch: 67 loss: 0.21384192751937134\n",
            "Epoch: 68 loss: 0.20242258871710578\n",
            "Epoch: 69 loss: 0.22228726337468901\n",
            "Epoch: 70 loss: 0.2188163174446239\n",
            "Epoch: 71 loss: 0.21960133690993452\n",
            "Epoch: 72 loss: 0.19711426550219224\n",
            "Epoch: 73 loss: 0.23620118716255176\n",
            "Epoch: 74 loss: 0.23367742137160413\n",
            "Epoch: 75 loss: 0.2137269926105821\n",
            "Epoch: 76 loss: 0.21301361823151277\n",
            "Epoch: 77 loss: 0.22410952299833298\n",
            "Epoch: 78 loss: 0.2432902455329895\n",
            "Epoch: 79 loss: 0.21839464299900588\n",
            "Epoch: 80 loss: 0.2328645589566508\n",
            "Epoch: 81 loss: 0.2264086639638557\n",
            "Epoch: 82 loss: 0.2337103132591691\n",
            "Epoch: 83 loss: 0.25308580012168996\n",
            "Epoch: 84 loss: 0.21373492271401162\n",
            "Epoch: 85 loss: 0.20675756340456564\n",
            "Epoch: 86 loss: 0.20401741382341052\n",
            "Epoch: 87 loss: 0.21704251570410507\n",
            "Epoch: 88 loss: 0.21029791036664053\n",
            "Epoch: 89 loss: 0.21103172472050025\n",
            "Epoch: 90 loss: 0.218440126281145\n",
            "Epoch: 91 loss: 0.1997413355857134\n",
            "Epoch: 92 loss: 0.21295585569947265\n",
            "Epoch: 93 loss: 0.19678457817712494\n",
            "Epoch: 94 loss: 0.21039471593360567\n",
            "Epoch: 95 loss: 0.20680246203271455\n",
            "Epoch: 96 loss: 0.22621055575477522\n",
            "Epoch: 97 loss: 0.21272761565308237\n",
            "Epoch: 98 loss: 0.22749453661746757\n",
            "Epoch: 99 loss: 0.21885584554699963\n",
            "Epoch: 100 loss: 0.2073828990376273\n"
          ],
          "name": "stdout"
        }
      ]
    },
    {
      "cell_type": "markdown",
      "metadata": {
        "id": "AyTjLzELSdQF"
      },
      "source": [
        "## Evaluate"
      ]
    },
    {
      "cell_type": "code",
      "metadata": {
        "id": "lznvtd0vmyFu",
        "colab": {
          "base_uri": "https://localhost:8080/",
          "height": 151
        },
        "outputId": "881650e6-c759-44e3-863c-06d84379fb45"
      },
      "source": [
        "network.eval()"
      ],
      "execution_count": null,
      "outputs": [
        {
          "output_type": "execute_result",
          "data": {
            "text/plain": [
              "Sequential(\n",
              "  (0): Linear(in_features=30, out_features=16, bias=True)\n",
              "  (1): Sigmoid()\n",
              "  (2): Linear(in_features=16, out_features=16, bias=True)\n",
              "  (3): Sigmoid()\n",
              "  (4): Linear(in_features=16, out_features=1, bias=True)\n",
              "  (5): Sigmoid()\n",
              ")"
            ]
          },
          "metadata": {
            "tags": []
          },
          "execution_count": 43
        }
      ]
    },
    {
      "cell_type": "code",
      "metadata": {
        "id": "-rsUsgYhm9AR",
        "colab": {
          "base_uri": "https://localhost:8080/",
          "height": 34
        },
        "outputId": "c0fbdcb9-4be1-478f-d9f4-64ec23309adc"
      },
      "source": [
        "X_test.shape"
      ],
      "execution_count": null,
      "outputs": [
        {
          "output_type": "execute_result",
          "data": {
            "text/plain": [
              "(143, 30)"
            ]
          },
          "metadata": {
            "tags": []
          },
          "execution_count": 44
        }
      ]
    },
    {
      "cell_type": "code",
      "metadata": {
        "id": "jbfwUSOCnAqY",
        "colab": {
          "base_uri": "https://localhost:8080/",
          "height": 34
        },
        "outputId": "ba49e6c6-01c6-4d7a-e4d0-d199153b4441"
      },
      "source": [
        "type(X_test)"
      ],
      "execution_count": null,
      "outputs": [
        {
          "output_type": "execute_result",
          "data": {
            "text/plain": [
              "numpy.ndarray"
            ]
          },
          "metadata": {
            "tags": []
          },
          "execution_count": 45
        }
      ]
    },
    {
      "cell_type": "code",
      "metadata": {
        "id": "4FX-fotsnEsW",
        "colab": {
          "base_uri": "https://localhost:8080/",
          "height": 34
        },
        "outputId": "6d310115-6236-476c-cab8-88c6f53f74de"
      },
      "source": [
        "X_test = torch.tensor(X_test, dtype=torch.float)\n",
        "type(X_test)"
      ],
      "execution_count": null,
      "outputs": [
        {
          "output_type": "execute_result",
          "data": {
            "text/plain": [
              "torch.Tensor"
            ]
          },
          "metadata": {
            "tags": []
          },
          "execution_count": 46
        }
      ]
    },
    {
      "cell_type": "code",
      "metadata": {
        "id": "EEw01uzUnMYs",
        "colab": {
          "base_uri": "https://localhost:8080/",
          "height": 1000
        },
        "outputId": "e5e82b5b-3843-450d-ff0c-f108ddbca346"
      },
      "source": [
        "predictions = network.forward(X_test)\n",
        "predictions"
      ],
      "execution_count": null,
      "outputs": [
        {
          "output_type": "execute_result",
          "data": {
            "text/plain": [
              "tensor([[0.9650],\n",
              "        [0.6096],\n",
              "        [0.9650],\n",
              "        [0.9649],\n",
              "        [0.9414],\n",
              "        [0.0176],\n",
              "        [0.0102],\n",
              "        [0.8942],\n",
              "        [0.9650],\n",
              "        [0.9633],\n",
              "        [0.9231],\n",
              "        [0.9645],\n",
              "        [0.9650],\n",
              "        [0.0102],\n",
              "        [0.9650],\n",
              "        [0.9650],\n",
              "        [0.9650],\n",
              "        [0.9650],\n",
              "        [0.9638],\n",
              "        [0.0102],\n",
              "        [0.9650],\n",
              "        [0.7554],\n",
              "        [0.0102],\n",
              "        [0.9633],\n",
              "        [0.8914],\n",
              "        [0.9650],\n",
              "        [0.5715],\n",
              "        [0.0664],\n",
              "        [0.0102],\n",
              "        [0.6698],\n",
              "        [0.8410],\n",
              "        [0.9650],\n",
              "        [0.9650],\n",
              "        [0.9649],\n",
              "        [0.9650],\n",
              "        [0.9649],\n",
              "        [0.9650],\n",
              "        [0.9648],\n",
              "        [0.0212],\n",
              "        [0.9650],\n",
              "        [0.9650],\n",
              "        [0.9650],\n",
              "        [0.0102],\n",
              "        [0.9645],\n",
              "        [0.9650],\n",
              "        [0.0102],\n",
              "        [0.9649],\n",
              "        [0.9649],\n",
              "        [0.9650],\n",
              "        [0.9650],\n",
              "        [0.9650],\n",
              "        [0.9504],\n",
              "        [0.9644],\n",
              "        [0.9650],\n",
              "        [0.5658],\n",
              "        [0.9649],\n",
              "        [0.9648],\n",
              "        [0.9632],\n",
              "        [0.0102],\n",
              "        [0.0102],\n",
              "        [0.9650],\n",
              "        [0.9641],\n",
              "        [0.9650],\n",
              "        [0.9650],\n",
              "        [0.9650],\n",
              "        [0.0820],\n",
              "        [0.9648],\n",
              "        [0.9650],\n",
              "        [0.0274],\n",
              "        [0.0102],\n",
              "        [0.9629],\n",
              "        [0.0665],\n",
              "        [0.9650],\n",
              "        [0.9647],\n",
              "        [0.9650],\n",
              "        [0.9650],\n",
              "        [0.0102],\n",
              "        [0.0102],\n",
              "        [0.9649],\n",
              "        [0.9650],\n",
              "        [0.0664],\n",
              "        [0.9527],\n",
              "        [0.9650],\n",
              "        [0.1866],\n",
              "        [0.0102],\n",
              "        [0.9649],\n",
              "        [0.9649],\n",
              "        [0.9650],\n",
              "        [0.0102],\n",
              "        [0.0102],\n",
              "        [0.9625],\n",
              "        [0.0102],\n",
              "        [0.0650],\n",
              "        [0.9650],\n",
              "        [0.9650],\n",
              "        [0.0102],\n",
              "        [0.9649],\n",
              "        [0.9649],\n",
              "        [0.9642],\n",
              "        [0.9649],\n",
              "        [0.9650],\n",
              "        [0.9650],\n",
              "        [0.9511],\n",
              "        [0.9649],\n",
              "        [0.2322],\n",
              "        [0.0102],\n",
              "        [0.9649],\n",
              "        [0.0102],\n",
              "        [0.9642],\n",
              "        [0.0102],\n",
              "        [0.9650],\n",
              "        [0.0759],\n",
              "        [0.9650],\n",
              "        [0.5161],\n",
              "        [0.9649],\n",
              "        [0.0102],\n",
              "        [0.9552],\n",
              "        [0.9574],\n",
              "        [0.0102],\n",
              "        [0.9607],\n",
              "        [0.9648],\n",
              "        [0.9650],\n",
              "        [0.9644],\n",
              "        [0.9650],\n",
              "        [0.9650],\n",
              "        [0.9649],\n",
              "        [0.9650],\n",
              "        [0.9650],\n",
              "        [0.9650],\n",
              "        [0.0102],\n",
              "        [0.9649],\n",
              "        [0.9645],\n",
              "        [0.9650],\n",
              "        [0.9649],\n",
              "        [0.0102],\n",
              "        [0.9648],\n",
              "        [0.0102],\n",
              "        [0.9649],\n",
              "        [0.8964],\n",
              "        [0.9609],\n",
              "        [0.9650],\n",
              "        [0.9650],\n",
              "        [0.9649]], grad_fn=<SigmoidBackward>)"
            ]
          },
          "metadata": {
            "tags": []
          },
          "execution_count": 47
        }
      ]
    },
    {
      "cell_type": "code",
      "metadata": {
        "id": "2h1ZtXPnnpiy",
        "colab": {
          "base_uri": "https://localhost:8080/",
          "height": 1000
        },
        "outputId": "d27c79e1-a851-448e-c47b-621c4081e154"
      },
      "source": [
        "predictions = np.array(predictions > 0.5)\n",
        "predictions"
      ],
      "execution_count": null,
      "outputs": [
        {
          "output_type": "execute_result",
          "data": {
            "text/plain": [
              "array([[ True],\n",
              "       [ True],\n",
              "       [ True],\n",
              "       [ True],\n",
              "       [ True],\n",
              "       [False],\n",
              "       [False],\n",
              "       [ True],\n",
              "       [ True],\n",
              "       [ True],\n",
              "       [ True],\n",
              "       [ True],\n",
              "       [ True],\n",
              "       [False],\n",
              "       [ True],\n",
              "       [ True],\n",
              "       [ True],\n",
              "       [ True],\n",
              "       [ True],\n",
              "       [False],\n",
              "       [ True],\n",
              "       [ True],\n",
              "       [False],\n",
              "       [ True],\n",
              "       [ True],\n",
              "       [ True],\n",
              "       [ True],\n",
              "       [False],\n",
              "       [False],\n",
              "       [ True],\n",
              "       [ True],\n",
              "       [ True],\n",
              "       [ True],\n",
              "       [ True],\n",
              "       [ True],\n",
              "       [ True],\n",
              "       [ True],\n",
              "       [ True],\n",
              "       [False],\n",
              "       [ True],\n",
              "       [ True],\n",
              "       [ True],\n",
              "       [False],\n",
              "       [ True],\n",
              "       [ True],\n",
              "       [False],\n",
              "       [ True],\n",
              "       [ True],\n",
              "       [ True],\n",
              "       [ True],\n",
              "       [ True],\n",
              "       [ True],\n",
              "       [ True],\n",
              "       [ True],\n",
              "       [ True],\n",
              "       [ True],\n",
              "       [ True],\n",
              "       [ True],\n",
              "       [False],\n",
              "       [False],\n",
              "       [ True],\n",
              "       [ True],\n",
              "       [ True],\n",
              "       [ True],\n",
              "       [ True],\n",
              "       [False],\n",
              "       [ True],\n",
              "       [ True],\n",
              "       [False],\n",
              "       [False],\n",
              "       [ True],\n",
              "       [False],\n",
              "       [ True],\n",
              "       [ True],\n",
              "       [ True],\n",
              "       [ True],\n",
              "       [False],\n",
              "       [False],\n",
              "       [ True],\n",
              "       [ True],\n",
              "       [False],\n",
              "       [ True],\n",
              "       [ True],\n",
              "       [False],\n",
              "       [False],\n",
              "       [ True],\n",
              "       [ True],\n",
              "       [ True],\n",
              "       [False],\n",
              "       [False],\n",
              "       [ True],\n",
              "       [False],\n",
              "       [False],\n",
              "       [ True],\n",
              "       [ True],\n",
              "       [False],\n",
              "       [ True],\n",
              "       [ True],\n",
              "       [ True],\n",
              "       [ True],\n",
              "       [ True],\n",
              "       [ True],\n",
              "       [ True],\n",
              "       [ True],\n",
              "       [False],\n",
              "       [False],\n",
              "       [ True],\n",
              "       [False],\n",
              "       [ True],\n",
              "       [False],\n",
              "       [ True],\n",
              "       [False],\n",
              "       [ True],\n",
              "       [ True],\n",
              "       [ True],\n",
              "       [False],\n",
              "       [ True],\n",
              "       [ True],\n",
              "       [False],\n",
              "       [ True],\n",
              "       [ True],\n",
              "       [ True],\n",
              "       [ True],\n",
              "       [ True],\n",
              "       [ True],\n",
              "       [ True],\n",
              "       [ True],\n",
              "       [ True],\n",
              "       [ True],\n",
              "       [False],\n",
              "       [ True],\n",
              "       [ True],\n",
              "       [ True],\n",
              "       [ True],\n",
              "       [False],\n",
              "       [ True],\n",
              "       [False],\n",
              "       [ True],\n",
              "       [ True],\n",
              "       [ True],\n",
              "       [ True],\n",
              "       [ True],\n",
              "       [ True]])"
            ]
          },
          "metadata": {
            "tags": []
          },
          "execution_count": 48
        }
      ]
    },
    {
      "cell_type": "code",
      "metadata": {
        "id": "CENEXHlIoKni",
        "colab": {
          "base_uri": "https://localhost:8080/",
          "height": 134
        },
        "outputId": "8a12d5b8-a3a3-447b-ad9c-680b3b210735"
      },
      "source": [
        "y_test"
      ],
      "execution_count": null,
      "outputs": [
        {
          "output_type": "execute_result",
          "data": {
            "text/plain": [
              "array([1, 1, 1, 1, 1, 0, 0, 0, 1, 1, 1, 1, 1, 0, 1, 1, 1, 1, 1, 0, 1, 0,\n",
              "       0, 0, 0, 1, 0, 0, 0, 0, 1, 1, 1, 1, 1, 1, 1, 1, 1, 1, 1, 1, 0, 1,\n",
              "       1, 0, 1, 1, 1, 1, 1, 1, 0, 1, 0, 1, 1, 1, 0, 0, 1, 1, 1, 1, 1, 0,\n",
              "       1, 1, 0, 0, 1, 0, 1, 1, 1, 1, 0, 0, 1, 1, 0, 1, 1, 0, 0, 1, 1, 1,\n",
              "       0, 0, 0, 0, 0, 1, 1, 0, 1, 1, 1, 1, 1, 1, 1, 1, 0, 0, 1, 0, 1, 0,\n",
              "       1, 0, 1, 0, 1, 0, 1, 1, 0, 1, 1, 1, 1, 1, 1, 1, 1, 1, 1, 0, 1, 1,\n",
              "       1, 1, 0, 1, 0, 1, 0, 1, 1, 1, 1])"
            ]
          },
          "metadata": {
            "tags": []
          },
          "execution_count": 49
        }
      ]
    },
    {
      "cell_type": "code",
      "metadata": {
        "id": "rfjEpilWoSt8",
        "colab": {
          "base_uri": "https://localhost:8080/",
          "height": 34
        },
        "outputId": "64298c84-78d4-4677-c149-f9cf5ecd0407"
      },
      "source": [
        "accuracy_score(y_test, predictions)"
      ],
      "execution_count": null,
      "outputs": [
        {
          "output_type": "execute_result",
          "data": {
            "text/plain": [
              "0.916083916083916"
            ]
          },
          "metadata": {
            "tags": []
          },
          "execution_count": 50
        }
      ]
    },
    {
      "cell_type": "code",
      "metadata": {
        "id": "9HLl2Iy0oZ_p",
        "colab": {
          "base_uri": "https://localhost:8080/",
          "height": 50
        },
        "outputId": "92712076-302c-4d9a-bf18-dece7d3dc9b0"
      },
      "source": [
        "cm = confusion_matrix(y_test, predictions)\n",
        "cm"
      ],
      "execution_count": null,
      "outputs": [
        {
          "output_type": "execute_result",
          "data": {
            "text/plain": [
              "array([[35, 11],\n",
              "       [ 1, 96]])"
            ]
          },
          "metadata": {
            "tags": []
          },
          "execution_count": 51
        }
      ]
    },
    {
      "cell_type": "code",
      "metadata": {
        "id": "VMfT3Ll9ofyi",
        "colab": {
          "base_uri": "https://localhost:8080/",
          "height": 335
        },
        "outputId": "8dccd679-f6ec-4f30-d6c0-08a79a4f1b9f"
      },
      "source": [
        "import seaborn as sns\n",
        "sns.heatmap(cm, annot=True)"
      ],
      "execution_count": null,
      "outputs": [
        {
          "output_type": "stream",
          "text": [
            "/usr/local/lib/python3.6/dist-packages/statsmodels/tools/_testing.py:19: FutureWarning: pandas.util.testing is deprecated. Use the functions in the public API at pandas.testing instead.\n",
            "  import pandas.util.testing as tm\n"
          ],
          "name": "stderr"
        },
        {
          "output_type": "execute_result",
          "data": {
            "text/plain": [
              "<matplotlib.axes._subplots.AxesSubplot at 0x7f78f3dc3a58>"
            ]
          },
          "metadata": {
            "tags": []
          },
          "execution_count": 52
        },
        {
          "output_type": "display_data",
          "data": {
            "image/png": "[encoded data removed]",
            "text/plain": [
              "<Figure size 432x288 with 2 Axes>"
            ]
          },
          "metadata": {
            "tags": [],
            "needs_background": "light"
          }
        }
      ]
    }
  ]
}